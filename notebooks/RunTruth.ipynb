{
 "cells": [
  {
   "cell_type": "code",
   "execution_count": null,
   "id": "27812091-2f72-43fd-98fb-a773a5d2f675",
   "metadata": {},
   "outputs": [],
   "source": [
    "import flopy as fp\n",
    "import xarray\n",
    "import matplotlib.pyplot as plt\n",
    "import numpy as np\n",
    "import pathlib as pl"
   ]
  },
  {
   "cell_type": "code",
   "execution_count": null,
   "id": "a1601d42-8369-45ee-9130-4a025624f0d5",
   "metadata": {},
   "outputs": [],
   "source": [
    "ds = xarray.load_dataset('../background/newMVTruth.nc')\n",
    "ds"
   ]
  },
  {
   "cell_type": "markdown",
   "id": "9a94e05a-7a32-48a0-9da3-d059a228c913",
   "metadata": {},
   "source": [
    "# Let's make the MCDonald Valley TRUTH model"
   ]
  },
  {
   "cell_type": "code",
   "execution_count": null,
   "id": "9a6aa182-adbf-4f5a-8f3d-3bd8dd83bcb8",
   "metadata": {},
   "outputs": [],
   "source": [
    "nrow = 40\n",
    "ncol = 25\n",
    "nlay = 5\n",
    "\n",
    "top = np.ones((nrow, ncol)) * 100\n",
    "botm = np.array([ds[f'bottom_layer{i}'].data for i in range(1,6)])\n",
    "botm[0, :, :] = top - 50 \n",
    "delr = np.full((ncol,), 500)\n",
    "delc = np.full((nrow,), 500)\n",
    "idomain = np.ones((nlay, nrow, ncol))\n",
    "idomain[2,:,:] = ds.clay_location.data\n",
    "\n",
    "modelgrid = fp.discretization.StructuredGrid(\n",
    "    delc,\n",
    "    delr,\n",
    "    top,\n",
    "    botm,\n",
    "    idomain,\n",
    ")\n",
    "print(modelgrid)\n",
    "print(type(modelgrid))"
   ]
  },
  {
   "cell_type": "code",
   "execution_count": null,
   "id": "e62c2948-60b2-46ac-bc20-6bbad8b330fe",
   "metadata": {},
   "outputs": [],
   "source": [
    "sim_ws = pl.Path('../Truthmodel')\n",
    "if sim_ws.exists():\n",
    "    shutil.rmtree(sim_ws)"
   ]
  },
  {
   "cell_type": "code",
   "execution_count": null,
   "id": "449ce427-5c29-40b2-8122-1846d0dfff81",
   "metadata": {},
   "outputs": [],
   "source": [
    "sim = fp.mf6.MFSimulation(sim_ws=sim_ws)"
   ]
  },
  {
   "cell_type": "code",
   "execution_count": null,
   "id": "0d2170ff-b5d5-40ed-876f-0a9da769c67f",
   "metadata": {},
   "outputs": [],
   "source": [
    "tdis = fp.mf6.ModflowTdis(sim, )\n",
    "\n",
    "ims = fp.mf6.ModflowIms(sim, complexity='simple', outer_maximum=7000)"
   ]
  },
  {
   "cell_type": "code",
   "execution_count": null,
   "id": "98c2b9af-668f-4da6-9424-62dd3598136f",
   "metadata": {},
   "outputs": [],
   "source": [
    "gwf = fp.mf6.ModflowGwf(sim,modelname='mv')"
   ]
  },
  {
   "cell_type": "code",
   "execution_count": null,
   "id": "efe1dc0b-7166-4e4e-996a-bc1d32b6e918",
   "metadata": {},
   "outputs": [],
   "source": [
    "dis = fp.mf6.ModflowGwfdis(gwf, \n",
    "                           xorigin=0, \n",
    "                           yorigin=0, \n",
    "                           nlay=nlay, \n",
    "                           nrow=nrow,\n",
    "                           ncol=ncol,\n",
    "                           delr=delr, \n",
    "                           idomain=idomain, \n",
    "                           top=top, \n",
    "                           botm=botm\n",
    "                          )"
   ]
  },
  {
   "cell_type": "code",
   "execution_count": null,
   "id": "94bdb7e5-1b17-4c04-a7c9-306097d61458",
   "metadata": {},
   "outputs": [],
   "source": [
    "ic = fp.mf6.ModflowGwfic(gwf, strt=11.0)"
   ]
  },
  {
   "cell_type": "code",
   "execution_count": null,
   "id": "83ce358a-11ca-4b23-ba65-752ea4e642dc",
   "metadata": {},
   "outputs": [],
   "source": [
    "k33 = np.ones((nlay, nrow, ncol))*.25\n",
    "k33[2,:,:] = 1.0\n",
    "npf = fp.mf6.ModflowGwfnpf(gwf, save_flows=True, k = np.array(\n",
    "    [ds[f'k1_layer{i}'].data for i in [1,2]] +\n",
    "    [ds['k1_layer3'].data] + \n",
    "    [ds[f'k1_layer{i}'].data for i in [4,5]]),\n",
    "    k33overk=True,\n",
    "    k33=k33\n",
    ")"
   ]
  },
  {
   "cell_type": "code",
   "execution_count": null,
   "id": "2869c61e-1c74-4196-bb97-888e7781e6ab",
   "metadata": {},
   "outputs": [],
   "source": [
    "oc = fp.mf6.ModflowGwfoc(gwf,\n",
    "                        budget_filerecord='mv.cbc',\n",
    "                        head_filerecord='mv.hds',\n",
    "                        saverecord=[(\"HEAD\", \"ALL\"), (\"BUDGET\", \"ALL\")],\n",
    "                        printrecord=[(\"HEAD\", \"ALL\"), (\"BUDGET\", \"ALL\")])"
   ]
  },
  {
   "cell_type": "code",
   "execution_count": null,
   "id": "acfd1981-0a7c-485c-bba7-6b4a7ae9e458",
   "metadata": {},
   "outputs": [],
   "source": [
    "lake_array = ds.lake_location.data\n",
    "lakeidx = np.where(lake_array==1)\n",
    "\n",
    "chd = fp.mf6.ModflowGwfchd(gwf,\n",
    "                           maxbound=len(lakeidx[0]),\n",
    "       stress_period_data={0:[list(i) for i in list(zip(np.zeros(len(lakeidx[0])).astype(int),\n",
    "                                 *lakeidx,\n",
    "                                 np.ones(len(lakeidx[0]))*11))]}\n",
    "                      )\n"
   ]
  },
  {
   "cell_type": "code",
   "execution_count": null,
   "id": "ecb180ab-87d5-47e4-8812-25852725d917",
   "metadata": {},
   "outputs": [],
   "source": [
    "rch = fp.mf6.ModflowGwfrcha(gwf,\n",
    "                            recharge=0.003641\n",
    "                       )"
   ]
  },
  {
   "cell_type": "code",
   "execution_count": null,
   "id": "398be5dd-9bd8-4aba-b3bc-60b3a0e44590",
   "metadata": {},
   "outputs": [],
   "source": [
    "rivrows = list(range(22,40))\n",
    "\n",
    "\n",
    "spd = [list(i) for i in list(zip(list(np.zeros(len(rivrows)).astype(int)),\n",
    "        rivrows,\n",
    "        list(np.ones(len(rivrows)).astype(int)*8),\n",
    "        list(1.75-np.arange(len(rivrows))*.1),\n",
    "        list(1.0e5*np.ones(len(rivrows))),\n",
    "        list(2*np.ones(len(rivrows))*(-2)),\n",
    "       ['pf']*2 + ['ds']*(len(rivrows)-2)\n",
    "      ))]\n",
    "spd"
   ]
  },
  {
   "cell_type": "code",
   "execution_count": null,
   "id": "df841dbf-5d99-4cfe-b9cd-fd3ec04190bc",
   "metadata": {},
   "outputs": [],
   "source": [
    "riv = fp.mf6.ModflowGwfriv(gwf,\n",
    "                           maxbound=len(spd),\n",
    "                           boundnames=True,\n",
    "                           stress_period_data={0:spd}\n",
    "                          )"
   ]
  },
  {
   "cell_type": "code",
   "execution_count": null,
   "id": "fbbc2a09-c372-43d4-bfa4-13d397594c8e",
   "metadata": {},
   "outputs": [],
   "source": [
    "wt_obs=[['wt01', 'head',  (0, 2, 17)], \n",
    "        ['wt02', 'head',  (0, 3, 10)],\n",
    "        ['wt03', 'head',  (0, 6, 20)],\n",
    "        ['wt04', 'head',  (0, 12, 22)],\n",
    "        ['wt05', 'head',  (0, 14, 11)],\n",
    "        ['wt06', 'head',  (0, 16, 18)],\n",
    "        ['wt07', 'head',  (0, 17, 1)],\n",
    "        ['wt08', 'head',  (0, 18, 6)], \n",
    "        ['wt09', 'head',  (0, 19, 11)], \n",
    "        ['wt10', 'head',  (0, 18, 22)], \n",
    "        ['wt11', 'head',  (0, 26, 5)],\n",
    "        ['wt12', 'head',  (0, 27, 11)], \n",
    "        ['wt13', 'head',  (0, 28, 23)],\n",
    "        ['wt14', 'head',  (0, 30, 6)], \n",
    "        ['wt15', 'head',  (0, 33, 14)],\n",
    "        ['wt16', 'head',  (0, 36, 1)],\n",
    "        ['wt17', 'head',  (0, 37, 22)]]"
   ]
  },
  {
   "cell_type": "code",
   "execution_count": null,
   "id": "218489a5-4902-4fef-bcd5-497f86a61b2f",
   "metadata": {},
   "outputs": [],
   "source": [
    "aq_obs = [  \n",
    "  ['aq01', 'head',  (4,\t2, 17)],\n",
    "  ['aq02', 'head',  (3,\t3, 10)],\n",
    "  ['aq03', 'head',  (3,\t6, 20)],\n",
    "  ['aq04', 'head',  (3,\t12,\t22)],\n",
    "  ['aq05', 'head',  (4,\t14,\t11)],\n",
    "  ['aq06', 'head',  (3,\t16,\t18)],\n",
    "  ['aq07', 'head',  (3,\t17,\t1)],\n",
    "  ['aq08', 'head',  (3,\t18,\t6)],\n",
    "  ['aq09', 'head',  (3,\t19,\t11)],\n",
    "  ['aq10', 'head',  (3,\t18,\t22)],\n",
    "  ['aq11', 'head',  (3,\t26,\t5)],\n",
    "  ['aq12', 'head',  (3,\t27,\t11)],\n",
    "  ['aq13', 'head',  (3,\t28,\t23)],\n",
    "  ['aq14', 'head',  (3,\t30,\t6)],\n",
    "  ['aq15', 'head',  (4,\t33,\t14)],\n",
    "  ['aq16', 'head',  (3,\t36,\t1)],\n",
    "  ['aq17', 'head',  (3,\t37,\t22)]]"
   ]
  },
  {
   "cell_type": "code",
   "execution_count": null,
   "id": "24608e1c-6a9a-4604-887e-f69939872d71",
   "metadata": {},
   "outputs": [],
   "source": [
    "obs = fp.mf6.ModflowUtlobs(gwf,continuous = {'wtobs.csv':wt_obs,\n",
    "                                             'aquiferobs.csv':aq_obs})"
   ]
  },
  {
   "cell_type": "code",
   "execution_count": null,
   "id": "f172e71e-a03b-400b-842c-06ea462eaf38",
   "metadata": {},
   "outputs": [],
   "source": [
    "sim.write_simulation()"
   ]
  },
  {
   "cell_type": "code",
   "execution_count": null,
   "id": "1a967078-4884-4fbf-a1f1-582db6d1da97",
   "metadata": {},
   "outputs": [],
   "source": [
    "sim.run_simulation()"
   ]
  },
  {
   "cell_type": "code",
   "execution_count": null,
   "id": "65d8eec6-46b4-497c-9efa-82f9f9f9b18d",
   "metadata": {},
   "outputs": [],
   "source": []
  }
 ],
 "metadata": {
  "kernelspec": {
   "display_name": "Python 3 (ipykernel)",
   "language": "python",
   "name": "python3"
  },
  "language_info": {
   "codemirror_mode": {
    "name": "ipython",
    "version": 3
   },
   "file_extension": ".py",
   "mimetype": "text/x-python",
   "name": "python",
   "nbconvert_exporter": "python",
   "pygments_lexer": "ipython3",
   "version": "3.11.7"
  }
 },
 "nbformat": 4,
 "nbformat_minor": 5
}
